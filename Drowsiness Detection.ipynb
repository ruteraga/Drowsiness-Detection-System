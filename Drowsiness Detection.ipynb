{
 "cells": [
  {
   "cell_type": "code",
   "execution_count": 1,
   "id": "f73af98c-8016-499c-98ac-30bbb37c38f0",
   "metadata": {
    "tags": []
   },
   "outputs": [],
   "source": [
    "import cv2\n",
    "import numpy as np\n",
    "import dlib\n",
    "from scipy.spatial import distance \n",
    "import math\n",
    "from imutils import face_utils\n",
    "import pandas as pd\n",
    "import joblib\n",
    "import winsound\n",
    "from datetime import datetime\n",
    "import time"
   ]
  },
  {
   "cell_type": "code",
   "execution_count": 2,
   "id": "3bf7094e-ae30-45d3-ab3f-3303ea8cc1df",
   "metadata": {
    "tags": []
   },
   "outputs": [],
   "source": [
    "# Load pre-trained model\n",
    "model = joblib.load('knn_model.pkl')\n",
    "frequency=1500\n",
    "duration=1500\n",
    "# Define labels\n",
    "labels = {0: 'Closed', 1: 'Open'}"
   ]
  },
  {
   "cell_type": "code",
   "execution_count": 3,
   "id": "7965d1d8-e8de-44cc-b373-da206ba2fd65",
   "metadata": {
    "tags": []
   },
   "outputs": [],
   "source": [
    "# Using a pre-trained model to extract face landmarks\n",
    "p = \"shape_predictor_68_face_landmarks.dat\"\n",
    "detector = dlib.get_frontal_face_detector()\n",
    "predictor = dlib.shape_predictor(p)"
   ]
  },
  {
   "cell_type": "code",
   "execution_count": 4,
   "id": "5b660e96-c1b3-4efd-8795-4151cd3fd97c",
   "metadata": {
    "tags": []
   },
   "outputs": [],
   "source": [
    "# Defining function to get eye_aspect ratio: ear\n",
    "def eye_aspect_ratio(eye):\n",
    "\tA = distance.euclidean(eye[1], eye[5])\n",
    "\tB = distance.euclidean(eye[2], eye[4])\n",
    "\tC = distance.euclidean(eye[0], eye[3])\n",
    "\tear = (A + B) / (2.0 * C)\n",
    "\treturn ear"
   ]
  },
  {
   "cell_type": "code",
   "execution_count": 5,
   "id": "88145c44-0f94-4390-81ae-ec969bb3b6ef",
   "metadata": {
    "tags": []
   },
   "outputs": [],
   "source": [
    "#Defining function to get circularity of the eye\n",
    "def circularity(eye):\n",
    "    A = distance.euclidean(eye[1], eye[4])\n",
    "    radius  = A/2.0\n",
    "    Area = math.pi * (radius ** 2)\n",
    "    p = 0\n",
    "    p += distance.euclidean(eye[0], eye[1])\n",
    "    p += distance.euclidean(eye[1], eye[2])\n",
    "    p += distance.euclidean(eye[2], eye[3])\n",
    "    p += distance.euclidean(eye[3], eye[4])\n",
    "    p += distance.euclidean(eye[4], eye[5])\n",
    "    p += distance.euclidean(eye[5], eye[0])\n",
    "    return 4 * math.pi * Area /(p**2)"
   ]
  },
  {
   "cell_type": "code",
   "execution_count": 6,
   "id": "0827a2b4-55ab-488e-a44f-1556bca887dc",
   "metadata": {
    "tags": []
   },
   "outputs": [],
   "source": [
    "def model(landmarks):\n",
    "\n",
    "    features = pd.DataFrame(columns=[\"EAR\",\"Circularity\"])\n",
    "    eye = landmarks[36:68]\n",
    "    ear = eye_aspect_ratio(eye)\n",
    "    cir = circularity(eye)\n",
    "\n",
    "    new_row = ({\"EAR\":ear,\"Circularity\": cir})\n",
    "    features.loc[len(features)] = new_row\n",
    "    df=np.asarray(features)\n",
    "    model = joblib.load('knn_model.pkl')\n",
    "    Result = model.predict(df)\n",
    "    label_index=np.argmax(Result)\n",
    "    label=labels[label_index]\n",
    "    Result_String = label\n",
    "    \n",
    "\n",
    "    return Result_String, df"
   ]
  },
  {
   "cell_type": "code",
   "execution_count": 7,
   "id": "f646b285-dd13-4872-8ace-8adb4ac0166e",
   "metadata": {
    "tags": []
   },
   "outputs": [],
   "source": [
    "# Open video capture\n",
    "cap = cv2.VideoCapture(0)  \n",
    "# Define the number of seconds until Sleep Alert and sound is used\n",
    "seconds=10\n",
    "counter=0\n",
    "while True:\n",
    "    ret, frame = cap.read()\n",
    "    if not ret:\n",
    "        break\n",
    "    gray = cv2.cvtColor(frame, cv2.COLOR_BGR2GRAY)\n",
    "    rects=detector(frame, 0)\n",
    "    for (i, rect) in enumerate(rects):\n",
    "        shape = predictor(gray, rect)\n",
    "        shape = face_utils.shape_to_np(shape)\n",
    "        Result_String, features = model(shape)\n",
    "        if Result_String == 'Open':\n",
    "            cv2.putText(frame, \"Alert\", (50, 50), cv2.FONT_HERSHEY_SIMPLEX, 1, (0, 255, 0), 2, cv2.LINE_AA)\n",
    "            counter=0\n",
    "        \n",
    "        if Result_String == 'Closed':\n",
    "            counter=counter+1\n",
    "            \n",
    "            if counter > seconds:\n",
    "                cv2.putText(frame, \"Sleeping!!\", (50, 50), cv2.FONT_HERSHEY_SIMPLEX, 1, (0, 255, 0), 2, cv2.LINE_AA)\n",
    "                winsound.Beep(frequency, duration)\n",
    "            else:\n",
    "                cv2.putText(frame, \"Drowsy\", (50, 50), cv2.FONT_HERSHEY_SIMPLEX, 1, (0, 255, 0), 2, cv2.LINE_AA)\n",
    "        # Draw on our image, all the finded cordinate points (x,y) \n",
    "        for (x, y) in shape:\n",
    "            cv2.circle(frame, (x, y), 2, (0, 255, 0), -1)\n",
    "\n",
    "        # Show the image\n",
    "    cv2.imshow(\"Drowsiness Detection\", frame)\n",
    "    if cv2.waitKey(1) & 0xFF == ord('q'):\n",
    "        break\n",
    "\n",
    "cv2.destroyAllWindows()\n",
    "cap.release()"
   ]
  },
  {
   "cell_type": "code",
   "execution_count": null,
   "id": "9e2fedd6-65a3-48bc-80b0-17d0de2d3761",
   "metadata": {},
   "outputs": [],
   "source": []
  },
  {
   "cell_type": "code",
   "execution_count": null,
   "id": "a8070fa1-79b0-49fe-90a4-f1d467ae7fb3",
   "metadata": {},
   "outputs": [],
   "source": []
  },
  {
   "cell_type": "code",
   "execution_count": null,
   "id": "7ff44935-54f9-49bb-a62a-846a2487ea80",
   "metadata": {},
   "outputs": [],
   "source": []
  },
  {
   "cell_type": "code",
   "execution_count": null,
   "id": "a6f3ea52-22f1-4d6f-8cf7-22898b16681f",
   "metadata": {},
   "outputs": [],
   "source": []
  }
 ],
 "metadata": {
  "kernelspec": {
   "display_name": "Python 3 (ipykernel)",
   "language": "python",
   "name": "python3"
  },
  "language_info": {
   "codemirror_mode": {
    "name": "ipython",
    "version": 3
   },
   "file_extension": ".py",
   "mimetype": "text/x-python",
   "name": "python",
   "nbconvert_exporter": "python",
   "pygments_lexer": "ipython3",
   "version": "3.11.5"
  }
 },
 "nbformat": 4,
 "nbformat_minor": 5
}
